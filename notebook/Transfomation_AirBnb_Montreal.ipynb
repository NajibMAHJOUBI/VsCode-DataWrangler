{
 "cells": [
  {
   "cell_type": "code",
   "execution_count": null,
   "id": "1f3a7acf",
   "metadata": {},
   "outputs": [],
   "source": [
    "import pandas as pd\n",
    "\n",
    "def clean_data(df):\n",
    "    # Drop columns: 'Number of accommodations', 'Reviews per month' and 8 other columns\n",
    "    df = df.drop(columns=['Number of accommodations', 'Reviews per month', 'Host listing counts', 'Yearly availibility', 'filename', 'Date', 'Country', 'City', 'geo_shape', 'Geo Point'])\n",
    "    # Derive column 'City' from column: 'Location'\n",
    "    # Transform based on the following examples:\n",
    "    #    Location                 Output\n",
    "    # 1: \"Canada, Quebec city\" => \"Quebec city\"\n",
    "    df.insert(4, \"City\", df[\"Location\"].str.split(\",\").str[-1].str.strip())\n",
    "    # Fonction personnalisée\n",
    "    # Suppresion de la colonne Location\n",
    "    df.drop(columns=[\"Location\"], inplace=True)\n",
    "    # Filtre des données de la ville de Montreal et de type 'Private room'\n",
    "    df = df[(df[\"City\"] == 'Montreal') & (df[\"Accommodation type\"] == \"Private room\")]\n",
    "    # Performed 1 aggregation grouped on column: 'Neighbourhood'\n",
    "    df = df.groupby(['Neighbourhood']).agg(Roompricepernight_mean=('Room price per night', 'mean')).reset_index()\n",
    "    # Rename column and round values\n",
    "    df = df.rename(columns={\"Roompricepernight_mean\": \"Prix Moyen\"})\n",
    "    df[\"Prix Moyen\"] = df[\"Prix Moyen\"].round(2)\n",
    "    return df\n",
    "\n",
    "# Loaded variable 'df' from URI: d:\\Microsoft_MVP\\VsCode-DataWrangler\\data\\airbnb-canada.csv\n",
    "df = pd.read_csv(r'd:\\Microsoft_MVP\\VsCode-DataWrangler\\data\\airbnb-canada.csv', sep=';')\n",
    "\n",
    "df_clean = clean_data(df.copy())\n",
    "df_clean.head()"
   ]
  }
 ],
 "metadata": {
  "kernelspec": {
   "display_name": "base",
   "language": "python",
   "name": "python3"
  },
  "language_info": {
   "name": "python",
   "version": "3.9.13"
  }
 },
 "nbformat": 4,
 "nbformat_minor": 5
}
